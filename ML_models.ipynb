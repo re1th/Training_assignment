{
 "cells": [
  {
   "cell_type": "code",
   "execution_count": 22,
   "metadata": {},
   "outputs": [
    {
     "name": "stderr",
     "output_type": "stream",
     "text": [
      "/home/bhawani/.local/lib/python2.7/site-packages/sklearn/cross_validation.py:41: DeprecationWarning: This module was deprecated in version 0.18 in favor of the model_selection module into which all the refactored classes and functions are moved. Also note that the interface of the new CV iterators are different from that of this module. This module will be removed in 0.20.\n",
      "  \"This module will be removed in 0.20.\", DeprecationWarning)\n"
     ]
    }
   ],
   "source": [
    "import pandas as pd\n",
    "import numpy as np\n",
    "import pickle\n",
    "from sklearn.svm import SVC\n",
    "from sklearn.cross_validation import train_test_split\n",
    "from tqdm import tqdm\n",
    "import os"
   ]
  },
  {
   "cell_type": "code",
   "execution_count": null,
   "metadata": {
    "collapsed": true
   },
   "outputs": [],
   "source": [
    "##parameters are obtained from the bottlenecks of Inception V3 model and made into a data_raw.csv"
   ]
  },
  {
   "cell_type": "code",
   "execution_count": 23,
   "metadata": {
    "collapsed": true
   },
   "outputs": [],
   "source": [
    "data = pd.read_csv('data_raw.csv')\n",
    "y_labels = data.label\n",
    "data = data.drop(['label','Unnamed: 0'],axis=1)\n",
    "X = np.array(data)\n",
    "X_train , X_test , y_train, y_test = train_test_split(X,y_labels,train_size = 0.8,test_size = 0.2, random_state = 6)"
   ]
  },
  {
   "cell_type": "code",
   "execution_count": 33,
   "metadata": {},
   "outputs": [
    {
     "name": "stdout",
     "output_type": "stream",
     "text": [
      "0.8932371285312461\n",
      "0.873838630806846\n"
     ]
    }
   ],
   "source": [
    "##Support vector machines\n",
    "model = SVC()\n",
    "model.fit(X_train , y_train)\n",
    "print model.score(X_train,y_train)\n",
    "print model.score(X_test,y_test)"
   ]
  },
  {
   "cell_type": "code",
   "execution_count": 38,
   "metadata": {},
   "outputs": [
    {
     "name": "stdout",
     "output_type": "stream",
     "text": [
      "0.9996331172801761\n",
      "0.8699266503667482\n"
     ]
    }
   ],
   "source": [
    "##Random_forrest_classifiers\n",
    "from sklearn.ensemble import RandomForestClassifier\n",
    "model_rfm = RandomForestClassifier(n_estimators = 100,max_depth=50, random_state=0)\n",
    "model_rfm.fit(X_train , y_train)\n",
    "print model_rfm.score(X_train,y_train)\n",
    "print model_rfm.score(X_test,y_test)"
   ]
  },
  {
   "cell_type": "code",
   "execution_count": 40,
   "metadata": {},
   "outputs": [
    {
     "name": "stdout",
     "output_type": "stream",
     "text": [
      "0.9466797113855937\n",
      "0.8513447432762836\n"
     ]
    }
   ],
   "source": [
    "##SGD\n",
    "from sklearn.linear_model import SGDClassifier\n",
    "model_sgd = SGDClassifier(loss='hinge')\n",
    "model_sgd.fit(X_train , y_train)\n",
    "print model_sgd.score(X_train,y_train)\n",
    "print model_sgd.score(X_test,y_test)"
   ]
  },
  {
   "cell_type": "code",
   "execution_count": 41,
   "metadata": {},
   "outputs": [
    {
     "name": "stdout",
     "output_type": "stream",
     "text": [
      "0.9996331172801761\n",
      "0.8689486552567237\n"
     ]
    }
   ],
   "source": [
    "##LinearSVC\n",
    "from sklearn.svm import LinearSVC\n",
    "model_clf = LinearSVC(random_state=0)\n",
    "model_clf.fit(X_train, y_train)\n",
    "print model_clf.score(X_train,y_train)\n",
    "print model_clf.score(X_test,y_test)"
   ]
  },
  {
   "cell_type": "code",
   "execution_count": 44,
   "metadata": {},
   "outputs": [
    {
     "name": "stdout",
     "output_type": "stream",
     "text": [
      "0.9120704414822062\n",
      "0.8537897310513447\n"
     ]
    }
   ],
   "source": [
    "##KNN\n",
    "from sklearn.neighbors import KNeighborsClassifier\n",
    "model_knn = KNeighborsClassifier(n_neighbors=3)\n",
    "model_knn.fit(X_train,y_train)\n",
    "print model_knn.score(X_train,y_train)\n",
    "print model_knn.score(X_test,y_test)"
   ]
  },
  {
   "cell_type": "code",
   "execution_count": null,
   "metadata": {
    "collapsed": true
   },
   "outputs": [],
   "source": []
  }
 ],
 "metadata": {
  "kernelspec": {
   "display_name": "Python 2",
   "language": "python",
   "name": "python2"
  },
  "language_info": {
   "codemirror_mode": {
    "name": "ipython",
    "version": 2
   },
   "file_extension": ".py",
   "mimetype": "text/x-python",
   "name": "python",
   "nbconvert_exporter": "python",
   "pygments_lexer": "ipython2",
   "version": "2.7.13"
  }
 },
 "nbformat": 4,
 "nbformat_minor": 2
}
