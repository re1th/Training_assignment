{
 "cells": [
  {
   "cell_type": "code",
   "execution_count": 2,
   "metadata": {
    "collapsed": true
   },
   "outputs": [],
   "source": [
    "import cv2\n",
    "import pandas as pd\n",
    "import numpy as np\n",
    "#from matplotlib import pyplot as plt\n",
    "import os"
   ]
  },
  {
   "cell_type": "code",
   "execution_count": 3,
   "metadata": {
    "collapsed": true
   },
   "outputs": [],
   "source": [
    "#File = pd.read_csv('labels.csv')\n",
    "%matplotlib inline\n",
    "def display(img):\n",
    "    im2 = img.copy()\n",
    "    im2[:, :, 0] = img[:, :, 2]\n",
    "    im2[:, :, 2] = img[:, :, 0]\n",
    "    plt.imshow(im2)\n",
    "#rotation\n",
    "def rotation(img,angle,direction):\n",
    "    rows,cols,_ = img.shape\n",
    "    M = cv2.getRotationMatrix2D((cols/2,rows/2),angle,direction)\n",
    "    dst = cv2.warpAffine(img,M,(cols,rows))\n",
    "    return dst\n",
    "\n",
    "def add_noise(gb, prob):\n",
    "    rnd = np.random.rand(gb.shape[0], gb.shape[1])\n",
    "    gb[rnd < prob]=0\n",
    "    return gb"
   ]
  },
  {
   "cell_type": "code",
   "execution_count": null,
   "metadata": {
    "collapsed": true
   },
   "outputs": [],
   "source": []
  },
  {
   "cell_type": "code",
   "execution_count": 4,
   "metadata": {
    "collapsed": true
   },
   "outputs": [],
   "source": [
    "def resized(img):\n",
    "    return cv2.resize(img,(128,128))"
   ]
  },
  {
   "cell_type": "code",
   "execution_count": 5,
   "metadata": {
    "collapsed": true
   },
   "outputs": [],
   "source": [
    "def data_augmentation(img_name,location):\n",
    "    img = cv2.imread(str(location)+'/'+img_name+'.jpg')\n",
    "    hor_flip = cv2.flip(img, 0)\n",
    "    vert_flip = cv2.flip(img, 1)\n",
    "    both_flip = cv2.flip(img, -1)\n",
    "    rot_30 = rotation(img,+20,1.2)\n",
    "    rot_330 = rotation(img,-20,1.2)\n",
    "    os.system('rm '+str(location)+'/'+img_name+'.jpg')\n",
    "    cv2.imwrite(str(location)+'/'+img_name+'.jpg',resized(img))\n",
    "    noisy = add_noise(img,0.05)\n",
    "    cv2.imwrite(str(location)+'/'+img_name+'_hor_flip.jpg',resized(hor_flip))\n",
    "    cv2.imwrite(str(location)+'/'+img_name+'_vert_flip.jpg',resized(vert_flip))\n",
    "    cv2.imwrite(str(location)+'/'+img_name+'_both_flip.jpg',resized(both_flip))\n",
    "    cv2.imwrite(str(location)+'/'+img_name+'_rot_30.jpg',resized(rot_30))\n",
    "    cv2.imwrite(str(location)+'/'+img_name+'_rot_330.jpg',resized(rot_330))\n",
    "    cv2.imwrite(str(location)+'/'+img_name+'_noisy.jpg',resized(noisy))"
   ]
  },
  {
   "cell_type": "code",
   "execution_count": 6,
   "metadata": {
    "collapsed": true
   },
   "outputs": [],
   "source": [
    "# data_augmentation('temp','/home/bhawani/Desktop/Practice/Capstone_problem')"
   ]
  },
  {
   "cell_type": "code",
   "execution_count": 7,
   "metadata": {
    "collapsed": true
   },
   "outputs": [],
   "source": [
    "# def changing_colour_space(img):\n",
    "    \n",
    "#     return dst"
   ]
  },
  {
   "cell_type": "code",
   "execution_count": 12,
   "metadata": {},
   "outputs": [
    {
     "name": "stdout",
     "output_type": "stream",
     "text": [
      "Done wire-haired_fox_terrier\n",
      "Done lakeland_terrier\n",
      "Done malinois\n",
      "Done border_terrier\n",
      "Done airedale\n",
      "Done pembroke\n",
      "Done great_dane\n",
      "Done pug\n",
      "Done cairn\n",
      "Done shih-tzu\n",
      "Done english_setter\n",
      "Done flat-coated_retriever\n",
      "Done collie\n",
      "Done vizsla\n",
      "Done newfoundland\n",
      "Done shetland_sheepdog\n",
      "Done komondor\n",
      "Done groenendael\n",
      "Done kuvasz\n",
      "Done german_short-haired_pointer\n",
      "Done borzoi\n",
      "Done chow\n",
      "Done japanese_spaniel\n",
      "Done redbone\n",
      "Done saluki\n",
      "Done affenpinscher\n",
      "Done lhasa\n",
      "Done boston_bull\n",
      "Done malamute\n",
      "Done irish_wolfhound\n",
      "Done pomeranian\n",
      "Done eskimo_dog\n",
      "Done english_springer\n",
      "Done whippet\n",
      "Done briard\n",
      "Done american_staffordshire_terrier\n",
      "Done silky_terrier\n",
      "Done otterhound\n",
      "Done keeshond\n",
      "Done curly-coated_retriever\n",
      "Done italian_greyhound\n",
      "Done kerry_blue_terrier\n",
      "Done bluetick\n",
      "Done norwegian_elkhound\n",
      "Done labrador_retriever\n",
      "Done giant_schnauzer\n",
      "Done chesapeake_bay_retriever\n",
      "Done cocker_spaniel\n",
      "Done miniature_poodle\n",
      "Done brabancon_griffon\n",
      "Done chihuahua\n",
      "Done leonberg\n",
      "Done schipperke\n",
      "Done clumber\n",
      "Done border_collie\n",
      "Done staffordshire_bullterrier\n",
      "Done ibizan_hound\n",
      "Done dingo\n",
      "Done cardigan\n",
      "Done toy_terrier\n",
      "Done bull_mastiff\n",
      "Done boxer\n",
      "Done sealyham_terrier\n",
      "Done miniature_schnauzer\n",
      "Done kelpie\n",
      "Done standard_schnauzer\n",
      "Done toy_poodle\n",
      "Done standard_poodle\n",
      "Done saint_bernard\n",
      "Done norwich_terrier\n",
      "Done appenzeller\n",
      "Done english_foxhound\n",
      "Done soft-coated_wheaten_terrier\n",
      "Done bouvier_des_flandres\n",
      "Done mexican_hairless\n",
      "Done irish_setter\n",
      "Done irish_water_spaniel\n",
      "Done maltese_dog\n",
      "Done miniature_pinscher\n",
      "Done welsh_springer_spaniel\n",
      "Done african_hunting_dog\n",
      "Done rhodesian_ridgeback\n",
      "Done irish_terrier\n",
      "Done greater_swiss_mountain_dog\n",
      "Done doberman\n",
      "Done pekinese\n",
      "Done bernese_mountain_dog\n",
      "Done australian_terrier\n",
      "Done papillon\n",
      "Done weimaraner\n",
      "Done scotch_terrier\n",
      "Done brittany_spaniel\n",
      "Done dhole\n",
      "Done great_pyrenees\n",
      "Done tibetan_terrier\n",
      "Done scottish_deerhound\n",
      "Done afghan_hound\n",
      "Done dandie_dinmont\n",
      "Done bedlington_terrier\n",
      "Done bloodhound\n",
      "Done blenheim_spaniel\n",
      "Done gordon_setter\n",
      "Done french_bulldog\n",
      "Done basenji\n",
      "Done rottweiler\n",
      "Done walker_hound\n",
      "Done tibetan_mastiff\n",
      "Done german_shepherd\n",
      "Done yorkshire_terrier\n",
      "Done norfolk_terrier\n",
      "Done old_english_sheepdog\n",
      "Done golden_retriever\n",
      "Done sussex_spaniel\n",
      "Done black-and-tan_coonhound\n",
      "Done samoyed\n",
      "Done beagle\n",
      "Done siberian_husky\n",
      "Done entlebucher\n",
      "Done west_highland_white_terrier\n",
      "Done basset\n"
     ]
    }
   ],
   "source": [
    "location = '/home/bhawani/Desktop/Practice/Capstone_problem/train_divided'\n",
    "folder_list = os.listdir(location)\n",
    "for folder in folder_list:\n",
    "    folder_loc = location+'/'+folder\n",
    "    image_list = os.listdir(folder_loc)\n",
    "    for a in image_list:\n",
    "        #img = cv2.imread(folder_loc+'/'+a)\n",
    "        data_augmentation(a,folder_loc)\n",
    "        #cv2.imwrite(folder_loc+'/'+a,resized(img))\n",
    "    print('Done '+str(folder))"
   ]
  },
  {
   "cell_type": "code",
   "execution_count": null,
   "metadata": {
    "collapsed": true
   },
   "outputs": [],
   "source": []
  },
  {
   "cell_type": "code",
   "execution_count": null,
   "metadata": {
    "collapsed": true
   },
   "outputs": [],
   "source": []
  },
  {
   "cell_type": "code",
   "execution_count": null,
   "metadata": {
    "collapsed": true
   },
   "outputs": [],
   "source": []
  }
 ],
 "metadata": {
  "kernelspec": {
   "display_name": "Python 2",
   "language": "python",
   "name": "python2"
  },
  "language_info": {
   "codemirror_mode": {
    "name": "ipython",
    "version": 2
   },
   "file_extension": ".py",
   "mimetype": "text/x-python",
   "name": "python",
   "nbconvert_exporter": "python",
   "pygments_lexer": "ipython2",
   "version": "2.7.13"
  }
 },
 "nbformat": 4,
 "nbformat_minor": 2
}
